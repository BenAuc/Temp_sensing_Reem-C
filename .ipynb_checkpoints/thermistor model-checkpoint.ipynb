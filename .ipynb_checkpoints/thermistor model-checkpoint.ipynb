{
 "cells": [
  {
   "cell_type": "markdown",
   "id": "9f7277e0",
   "metadata": {},
   "source": [
    "Computation of model of resistor"
   ]
  },
  {
   "cell_type": "code",
   "execution_count": 1,
   "id": "1e2218ed",
   "metadata": {},
   "outputs": [],
   "source": [
    "import numpy as np\n",
    "import matplotlib.pyplot as plt \n",
    "from scipy.optimize import curve_fit"
   ]
  },
  {
   "cell_type": "code",
   "execution_count": 7,
   "id": "85316647",
   "metadata": {},
   "outputs": [],
   "source": [
    "#curve_shift = 0\n",
    "curve_shift = 18\n",
    "\n",
    "resistance = [32.68, 31.06, 29.53, 28.08, 26.71, 25.41, 24.19, 23.03, 21.93, 20.9, 19.91, 18.98, 18.1, 17.26, 16.47, 15.72, 15, 14.33, 13.68, 13.07, 12.49, 11.94, 11.42, 10.92, 10.45, 10,\n",
    "9.572, 9.164, 8.776, 8.407, 8.055, 7.72, 7.401, 7.097, 6.806, 6.53, 6.266, 6.014, 5.773, 5.544, 5.325, 5.115, 4.915, 4.724, 4.542, 4.367, 4.2, 4.041, 3.888, 3.742, 3.602, 3.468, 3.339, 3.217, 3.099, 2.986,\n",
    "2.878, 2.774, 2.675, 2.58, 2.488, 2.401, 2.317, 2.236, 2.158, 2.084, 2.012, 1.944, 1.878, 1.814, 1.753, 1.695, 1.639, 1.584, 1.532, 1.482, 1.434, 1.387, 1.343, 1.3, 1.258, 1.218, 1.18, 1.143, 1.107, 1.073, 1.039, 1.007, 0.9766, 0.9468, 0.9181, 0.8904,\n",
    "0.8637, 0.8379, 0.813, 0.789, 0.7658, 0.7434, 0.7217, 0.7008, 0.6806, 0.661, 0.6421, 0.6239, 0.6062, 0.5892, 0.5727, 0.5567, \n",
    "              0.5413, 0.5263, 0.5119, 0.4979, 0.4843, 0.4712, 0.4585, 0.4462, 0.4343, 0.4227, 0.4115, 0.4007, 0.3902, 0.38,\n",
    "              0.3702, 0.3606, 0.3513, 0.3423, 0.3336, 0.3252, 0.3169, 0.309, 0.3013, 0.2938, 0.2865, 0.2794, 0.2725, 0.2659, \n",
    "              0.2594, 0.2531, 0.247, 0.2411]\n",
    "\n",
    "temp = np.arange(curve_shift, len(resistance))\n",
    "\n",
    "resistance = resistance[:-curve_shift]"
   ]
  },
  {
   "cell_type": "code",
   "execution_count": 8,
   "id": "16faedb7",
   "metadata": {},
   "outputs": [],
   "source": [
    "for i_res in range(len(resistance)):\n",
    "    resistance[i_res] *= 1000"
   ]
  },
  {
   "cell_type": "code",
   "execution_count": 9,
   "id": "6df4f255",
   "metadata": {},
   "outputs": [
    {
     "name": "stderr",
     "output_type": "stream",
     "text": [
      "No artists with labels found to put in legend.  Note that artists whose label start with an underscore are ignored when legend() is called with no argument.\n"
     ]
    },
    {
     "data": {
      "image/png": "[encoded data removed]",
      "text/plain": [
       "<Figure size 432x288 with 1 Axes>"
      ]
     },
     "metadata": {
      "needs_background": "light"
     },
     "output_type": "display_data"
    }
   ],
   "source": [
    "fig, ax =plt.subplots(1,1)\n",
    "fs = 14\n",
    "ax.plot(temp, resistance, marker='o')\n",
    "ax.set_ylabel('resistance', fontsize=fs)\n",
    "ax.set_xlabel('temperature', fontsize=fs)\n",
    "ax.legend()\n",
    "\n",
    "plt.show()"
   ]
  },
  {
   "cell_type": "code",
   "execution_count": 10,
   "id": "db382bea",
   "metadata": {},
   "outputs": [
    {
     "name": "stdout",
     "output_type": "stream",
     "text": [
      "[1.00000000e+00 1.00000000e+00 6.05446395e+03]\n"
     ]
    },
    {
     "name": "stderr",
     "output_type": "stream",
     "text": [
      "C:\\Users\\benoi\\anaconda3\\lib\\site-packages\\scipy\\optimize\\minpack.py:833: OptimizeWarning: Covariance of the parameters could not be estimated\n",
      "  warnings.warn('Covariance of the parameters could not be estimated',\n"
     ]
    },
    {
     "data": {
      "image/png": "[encoded data removed]",
      "text/plain": [
       "<Figure size 432x288 with 1 Axes>"
      ]
     },
     "metadata": {
      "needs_background": "light"
     },
     "output_type": "display_data"
    }
   ],
   "source": [
    "def temp_to_resistor(x, a, b, c):\n",
    "    return a * np.exp(-b * x) + c\n",
    "\n",
    "popt, pcov = curve_fit(temp_to_resistor, temp, resistance)#, bounds=(0, [3., 1., 0.5]))\n",
    "print(popt)\n",
    "plt.plot(temp, resistance, marker='o')\n",
    "plt.plot(temp, temp_to_resistor(temp, *popt), 'g--', label='fit: a=%5.3f, b=%5.3f, c=%5.3f' % tuple(popt))\n",
    "plt.show()"
   ]
  },
  {
   "cell_type": "code",
   "execution_count": 11,
   "id": "b3141f7e",
   "metadata": {},
   "outputs": [],
   "source": [
    "def resistor_to_temp(y, a, b, c):\n",
    "    return -np.log((y - c) / a) / b"
   ]
  },
  {
   "cell_type": "code",
   "execution_count": 15,
   "id": "cbcced63",
   "metadata": {},
   "outputs": [
    {
     "name": "stdout",
     "output_type": "stream",
     "text": [
      "nan\n"
     ]
    },
    {
     "name": "stderr",
     "output_type": "stream",
     "text": [
      "C:\\Users\\benoi\\AppData\\Local\\Temp\\ipykernel_476\\2966418108.py:2: RuntimeWarning: invalid value encountered in log\n",
      "  return -np.log((y - c) / a) / b\n"
     ]
    }
   ],
   "source": [
    "# print(resistor_to_temp(5537, 31.65087152, 0.04736822, 0.43440881))\n",
    "print(resistor_to_temp(5537, 1.0, 1.0, 6054.46395))"
   ]
  },
  {
   "cell_type": "code",
   "execution_count": 16,
   "id": "28261700",
   "metadata": {},
   "outputs": [
    {
     "name": "stdout",
     "output_type": "stream",
     "text": [
      "6054.4639500002795\n"
     ]
    }
   ],
   "source": [
    "# print(temp_to_resistor(10, 31.65087152, 0.04736822, 0.43440881))\n",
    "print(temp_to_resistor(22, 1.0, 1.0, 6054.46395))"
   ]
  },
  {
   "cell_type": "markdown",
   "id": "18a17e3c",
   "metadata": {},
   "source": [
    "Section data analysis"
   ]
  },
  {
   "cell_type": "code",
   "execution_count": 2,
   "id": "5e0afadd",
   "metadata": {},
   "outputs": [
    {
     "ename": "ValueError",
     "evalue": "Object arrays cannot be loaded when allow_pickle=False",
     "output_type": "error",
     "traceback": [
      "\u001b[1;31m---------------------------------------------------------------------------\u001b[0m",
      "\u001b[1;31mValueError\u001b[0m                                Traceback (most recent call last)",
      "Input \u001b[1;32mIn [2]\u001b[0m, in \u001b[0;36m<cell line: 4>\u001b[1;34m()\u001b[0m\n\u001b[0;32m      2\u001b[0m \u001b[38;5;28;01mimport\u001b[39;00m \u001b[38;5;21;01mmatplotlib\u001b[39;00m\u001b[38;5;21;01m.\u001b[39;00m\u001b[38;5;21;01mpyplot\u001b[39;00m \u001b[38;5;28;01mas\u001b[39;00m \u001b[38;5;21;01mplt\u001b[39;00m\n\u001b[0;32m      3\u001b[0m \u001b[38;5;28;01mimport\u001b[39;00m \u001b[38;5;21;01mtime\u001b[39;00m\n\u001b[1;32m----> 4\u001b[0m data \u001b[38;5;241m=\u001b[39m \u001b[43mnp\u001b[49m\u001b[38;5;241;43m.\u001b[39;49m\u001b[43mload\u001b[49m\u001b[43m(\u001b[49m\u001b[38;5;124;43m\"\u001b[39;49m\u001b[38;5;124;43m./data.npy\u001b[39;49m\u001b[38;5;124;43m\"\u001b[39;49m\u001b[43m)\u001b[49m\n",
      "File \u001b[1;32m~\\anaconda3\\lib\\site-packages\\numpy\\lib\\npyio.py:440\u001b[0m, in \u001b[0;36mload\u001b[1;34m(file, mmap_mode, allow_pickle, fix_imports, encoding)\u001b[0m\n\u001b[0;32m    438\u001b[0m         \u001b[38;5;28;01mreturn\u001b[39;00m \u001b[38;5;28mformat\u001b[39m\u001b[38;5;241m.\u001b[39mopen_memmap(file, mode\u001b[38;5;241m=\u001b[39mmmap_mode)\n\u001b[0;32m    439\u001b[0m     \u001b[38;5;28;01melse\u001b[39;00m:\n\u001b[1;32m--> 440\u001b[0m         \u001b[38;5;28;01mreturn\u001b[39;00m \u001b[38;5;28;43mformat\u001b[39;49m\u001b[38;5;241;43m.\u001b[39;49m\u001b[43mread_array\u001b[49m\u001b[43m(\u001b[49m\u001b[43mfid\u001b[49m\u001b[43m,\u001b[49m\u001b[43m \u001b[49m\u001b[43mallow_pickle\u001b[49m\u001b[38;5;241;43m=\u001b[39;49m\u001b[43mallow_pickle\u001b[49m\u001b[43m,\u001b[49m\n\u001b[0;32m    441\u001b[0m \u001b[43m                                 \u001b[49m\u001b[43mpickle_kwargs\u001b[49m\u001b[38;5;241;43m=\u001b[39;49m\u001b[43mpickle_kwargs\u001b[49m\u001b[43m)\u001b[49m\n\u001b[0;32m    442\u001b[0m \u001b[38;5;28;01melse\u001b[39;00m:\n\u001b[0;32m    443\u001b[0m     \u001b[38;5;66;03m# Try a pickle\u001b[39;00m\n\u001b[0;32m    444\u001b[0m     \u001b[38;5;28;01mif\u001b[39;00m \u001b[38;5;129;01mnot\u001b[39;00m allow_pickle:\n",
      "File \u001b[1;32m~\\anaconda3\\lib\\site-packages\\numpy\\lib\\format.py:743\u001b[0m, in \u001b[0;36mread_array\u001b[1;34m(fp, allow_pickle, pickle_kwargs)\u001b[0m\n\u001b[0;32m    740\u001b[0m \u001b[38;5;28;01mif\u001b[39;00m dtype\u001b[38;5;241m.\u001b[39mhasobject:\n\u001b[0;32m    741\u001b[0m     \u001b[38;5;66;03m# The array contained Python objects. We need to unpickle the data.\u001b[39;00m\n\u001b[0;32m    742\u001b[0m     \u001b[38;5;28;01mif\u001b[39;00m \u001b[38;5;129;01mnot\u001b[39;00m allow_pickle:\n\u001b[1;32m--> 743\u001b[0m         \u001b[38;5;28;01mraise\u001b[39;00m \u001b[38;5;167;01mValueError\u001b[39;00m(\u001b[38;5;124m\"\u001b[39m\u001b[38;5;124mObject arrays cannot be loaded when \u001b[39m\u001b[38;5;124m\"\u001b[39m\n\u001b[0;32m    744\u001b[0m                          \u001b[38;5;124m\"\u001b[39m\u001b[38;5;124mallow_pickle=False\u001b[39m\u001b[38;5;124m\"\u001b[39m)\n\u001b[0;32m    745\u001b[0m     \u001b[38;5;28;01mif\u001b[39;00m pickle_kwargs \u001b[38;5;129;01mis\u001b[39;00m \u001b[38;5;28;01mNone\u001b[39;00m:\n\u001b[0;32m    746\u001b[0m         pickle_kwargs \u001b[38;5;241m=\u001b[39m {}\n",
      "\u001b[1;31mValueError\u001b[0m: Object arrays cannot be loaded when allow_pickle=False"
     ]
    }
   ],
   "source": [
    "import numpy as np\n",
    "import matplotlib.pyplot as plt\n",
    "import time\n",
    "data = np.load(\"./data.npy\")"
   ]
  },
  {
   "cell_type": "code",
   "execution_count": null,
   "id": "a07a7e16",
   "metadata": {},
   "outputs": [],
   "source": []
  }
 ],
 "metadata": {
  "kernelspec": {
   "display_name": "Python 3 (ipykernel)",
   "language": "python",
   "name": "python3"
  },
  "language_info": {
   "codemirror_mode": {
    "name": "ipython",
    "version": 3
   },
   "file_extension": ".py",
   "mimetype": "text/x-python",
   "name": "python",
   "nbconvert_exporter": "python",
   "pygments_lexer": "ipython3",
   "version": "3.8.13"
  }
 },
 "nbformat": 4,
 "nbformat_minor": 5
}
