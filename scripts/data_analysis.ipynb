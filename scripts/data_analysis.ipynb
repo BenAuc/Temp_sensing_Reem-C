{
 "cells": [
  {
   "cell_type": "markdown",
   "id": "9f7277e0",
   "metadata": {},
   "source": [
    "Computation of model of resistor"
   ]
  },
  {
   "cell_type": "code",
   "execution_count": 35,
   "id": "1e2218ed",
   "metadata": {},
   "outputs": [],
   "source": [
    "import numpy as np\n",
    "import matplotlib.pyplot as plt "
   ]
  },
  {
   "cell_type": "code",
   "execution_count": 7,
   "id": "85316647",
   "metadata": {},
   "outputs": [],
   "source": []
  },
  {
   "cell_type": "code",
   "execution_count": 8,
   "id": "16faedb7",
   "metadata": {},
   "outputs": [],
   "source": []
  },
  {
   "cell_type": "code",
   "execution_count": null,
   "id": "6df4f255",
   "metadata": {},
   "outputs": [],
   "source": []
  },
  {
   "cell_type": "code",
   "execution_count": null,
   "id": "db382bea",
   "metadata": {},
   "outputs": [],
   "source": []
  },
  {
   "cell_type": "code",
   "execution_count": null,
   "id": "b3141f7e",
   "metadata": {},
   "outputs": [],
   "source": []
  },
  {
   "cell_type": "code",
   "execution_count": null,
   "id": "cbcced63",
   "metadata": {},
   "outputs": [],
   "source": []
  },
  {
   "cell_type": "code",
   "execution_count": null,
   "id": "28261700",
   "metadata": {},
   "outputs": [],
   "source": []
  },
  {
   "cell_type": "code",
   "execution_count": 38,
   "id": "96c51bf8",
   "metadata": {
    "scrolled": false
   },
   "outputs": [
    {
     "data": {
      "text/plain": [
       "<function matplotlib.pyplot.show(close=None, block=None)>"
      ]
     },
     "execution_count": 38,
     "metadata": {},
     "output_type": "execute_result"
    },
    {
     "data": {
      "image/png": "[encoded data removed]",
      "text/plain": [
       "<Figure size 864x288 with 1 Axes>"
      ]
     },
     "metadata": {
      "needs_background": "light"
     },
     "output_type": "display_data"
    }
   ],
   "source": [
    "\n",
    "import numpy as np\n",
    "import matplotlib.pyplot as plt\n",
    "\n",
    "nb_samples = 50\n",
    "nb_sensors = 3\n",
    "\n",
    "time_series = np.load(\"./data.npy\", allow_pickle = True)\n",
    "\n",
    "time_range = np.load(\"./time_range.npy\", allow_pickle = True)\n",
    "\n",
    "fig, ax = plt.subplots(1,1)\n",
    "fig.set_figwidth(12)\n",
    "\n",
    "for sensor in range(0,nb_sensors):\n",
    "    ax.plot(time_range[:], time_series[:, sensor], label=\"sensor # \" + str(sensor))\n",
    "    \n",
    "ax.set_title(\"Temperature\")\n",
    "ax.legend(loc='upper right')\n",
    "ax.set_xlabel(\"time (s)\")\n",
    "ax.set_ylabel(\"Temperature (C)\")\n",
    "plt.show\n"
   ]
  },
  {
   "cell_type": "code",
   "execution_count": 26,
   "id": "6099d646",
   "metadata": {},
   "outputs": [
    {
     "data": {
      "text/plain": [
       "array([0.00000000e+00, 5.00082107e-03, 1.00016421e-02, ...,\n",
       "       4.74927977e+01, 4.74977985e+01, 4.75027993e+01])"
      ]
     },
     "execution_count": 26,
     "metadata": {},
     "output_type": "execute_result"
    }
   ],
   "source": [
    "start=1000\n",
    "time_range[:-500]"
   ]
  },
  {
   "cell_type": "code",
   "execution_count": 23,
   "id": "806f42ef",
   "metadata": {},
   "outputs": [
    {
     "data": {
      "text/plain": [
       "array([[31., 31., 31.],\n",
       "       [31., 31., 31.],\n",
       "       [31., 31., 31.],\n",
       "       [31., 31., 31.],\n",
       "       [31., 31., 31.]])"
      ]
     },
     "execution_count": 23,
     "metadata": {},
     "output_type": "execute_result"
    }
   ],
   "source": [
    "time_series[:5]"
   ]
  },
  {
   "cell_type": "code",
   "execution_count": null,
   "id": "f0e5fcc6",
   "metadata": {},
   "outputs": [],
   "source": []
  }
 ],
 "metadata": {
  "kernelspec": {
   "display_name": "Python 3 (ipykernel)",
   "language": "python",
   "name": "python3"
  },
  "language_info": {
   "codemirror_mode": {
    "name": "ipython",
    "version": 3
   },
   "file_extension": ".py",
   "mimetype": "text/x-python",
   "name": "python",
   "nbconvert_exporter": "python",
   "pygments_lexer": "ipython3",
   "version": "3.8.13"
  }
 },
 "nbformat": 4,
 "nbformat_minor": 5
}
